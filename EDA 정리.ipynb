{
  "nbformat": 4,
  "nbformat_minor": 0,
  "metadata": {
    "colab": {
      "name": "EDA.ipynb",
      "provenance": [],
      "collapsed_sections": []
    },
    "kernelspec": {
      "name": "python3",
      "display_name": "Python 3"
    },
    "language_info": {
      "name": "python"
    }
  },
  "cells": [
    {
      "cell_type": "markdown",
      "metadata": {
        "id": "PsIY7Qmn0yHt"
      },
      "source": [
        "# EDA"
      ]
    },
    {
      "cell_type": "markdown",
      "metadata": {
        "id": "vFpZ-9Ld03cB"
      },
      "source": [
        "필요한 라이브러리 import"
      ]
    },
    {
      "cell_type": "code",
      "metadata": {
        "id": "zRQyb__01aOp"
      },
      "source": [
        "import numpy as np\n",
        "import matplotlib.pyplot as plt\n",
        "import seaborn as sns\n",
        "import pandas as pd\n",
        "\n",
        "from PIL import Image"
      ],
      "execution_count": null,
      "outputs": []
    },
    {
      "cell_type": "markdown",
      "metadata": {
        "id": "UdtXSdGg1h3j"
      },
      "source": [
        "구글 드라이브 마운트"
      ]
    },
    {
      "cell_type": "code",
      "metadata": {
        "id": "IriSABKyPgbK"
      },
      "source": [
        "from google.colab import drive\n",
        "drive.mount('/content/drive')"
      ],
      "execution_count": null,
      "outputs": []
    },
    {
      "cell_type": "code",
      "metadata": {
        "colab": {
          "base_uri": "https://localhost:8080/",
          "height": 417
        },
        "id": "tsYDSCTN2WWM",
        "outputId": "85fc4e3c-2e28-4f53-a3ae-6c8142e9dbea"
      },
      "source": [
        "train_df = pd.read_csv('/content/drive/MyDrive/AI_Tech/data/train/train.csv')\n",
        "train_df"
      ],
      "execution_count": null,
      "outputs": [
        {
          "output_type": "execute_result",
          "data": {
            "text/html": [
              "<div>\n",
              "<style scoped>\n",
              "    .dataframe tbody tr th:only-of-type {\n",
              "        vertical-align: middle;\n",
              "    }\n",
              "\n",
              "    .dataframe tbody tr th {\n",
              "        vertical-align: top;\n",
              "    }\n",
              "\n",
              "    .dataframe thead th {\n",
              "        text-align: right;\n",
              "    }\n",
              "</style>\n",
              "<table border=\"1\" class=\"dataframe\">\n",
              "  <thead>\n",
              "    <tr style=\"text-align: right;\">\n",
              "      <th></th>\n",
              "      <th>id</th>\n",
              "      <th>gender</th>\n",
              "      <th>race</th>\n",
              "      <th>age</th>\n",
              "      <th>path</th>\n",
              "    </tr>\n",
              "  </thead>\n",
              "  <tbody>\n",
              "    <tr>\n",
              "      <th>0</th>\n",
              "      <td>000001</td>\n",
              "      <td>female</td>\n",
              "      <td>Asian</td>\n",
              "      <td>45</td>\n",
              "      <td>000001_female_Asian_45</td>\n",
              "    </tr>\n",
              "    <tr>\n",
              "      <th>1</th>\n",
              "      <td>000002</td>\n",
              "      <td>female</td>\n",
              "      <td>Asian</td>\n",
              "      <td>52</td>\n",
              "      <td>000002_female_Asian_52</td>\n",
              "    </tr>\n",
              "    <tr>\n",
              "      <th>2</th>\n",
              "      <td>000004</td>\n",
              "      <td>male</td>\n",
              "      <td>Asian</td>\n",
              "      <td>54</td>\n",
              "      <td>000004_male_Asian_54</td>\n",
              "    </tr>\n",
              "    <tr>\n",
              "      <th>3</th>\n",
              "      <td>000005</td>\n",
              "      <td>female</td>\n",
              "      <td>Asian</td>\n",
              "      <td>58</td>\n",
              "      <td>000005_female_Asian_58</td>\n",
              "    </tr>\n",
              "    <tr>\n",
              "      <th>4</th>\n",
              "      <td>000006</td>\n",
              "      <td>female</td>\n",
              "      <td>Asian</td>\n",
              "      <td>59</td>\n",
              "      <td>000006_female_Asian_59</td>\n",
              "    </tr>\n",
              "    <tr>\n",
              "      <th>...</th>\n",
              "      <td>...</td>\n",
              "      <td>...</td>\n",
              "      <td>...</td>\n",
              "      <td>...</td>\n",
              "      <td>...</td>\n",
              "    </tr>\n",
              "    <tr>\n",
              "      <th>2695</th>\n",
              "      <td>006954</td>\n",
              "      <td>male</td>\n",
              "      <td>Asian</td>\n",
              "      <td>19</td>\n",
              "      <td>006954_male_Asian_19</td>\n",
              "    </tr>\n",
              "    <tr>\n",
              "      <th>2696</th>\n",
              "      <td>006955</td>\n",
              "      <td>male</td>\n",
              "      <td>Asian</td>\n",
              "      <td>19</td>\n",
              "      <td>006955_male_Asian_19</td>\n",
              "    </tr>\n",
              "    <tr>\n",
              "      <th>2697</th>\n",
              "      <td>006956</td>\n",
              "      <td>male</td>\n",
              "      <td>Asian</td>\n",
              "      <td>19</td>\n",
              "      <td>006956_male_Asian_19</td>\n",
              "    </tr>\n",
              "    <tr>\n",
              "      <th>2698</th>\n",
              "      <td>006957</td>\n",
              "      <td>male</td>\n",
              "      <td>Asian</td>\n",
              "      <td>20</td>\n",
              "      <td>006957_male_Asian_20</td>\n",
              "    </tr>\n",
              "    <tr>\n",
              "      <th>2699</th>\n",
              "      <td>006959</td>\n",
              "      <td>male</td>\n",
              "      <td>Asian</td>\n",
              "      <td>19</td>\n",
              "      <td>006959_male_Asian_19</td>\n",
              "    </tr>\n",
              "  </tbody>\n",
              "</table>\n",
              "<p>2700 rows × 5 columns</p>\n",
              "</div>"
            ],
            "text/plain": [
              "          id  gender   race  age                    path\n",
              "0     000001  female  Asian   45  000001_female_Asian_45\n",
              "1     000002  female  Asian   52  000002_female_Asian_52\n",
              "2     000004    male  Asian   54    000004_male_Asian_54\n",
              "3     000005  female  Asian   58  000005_female_Asian_58\n",
              "4     000006  female  Asian   59  000006_female_Asian_59\n",
              "...      ...     ...    ...  ...                     ...\n",
              "2695  006954    male  Asian   19    006954_male_Asian_19\n",
              "2696  006955    male  Asian   19    006955_male_Asian_19\n",
              "2697  006956    male  Asian   19    006956_male_Asian_19\n",
              "2698  006957    male  Asian   20    006957_male_Asian_20\n",
              "2699  006959    male  Asian   19    006959_male_Asian_19\n",
              "\n",
              "[2700 rows x 5 columns]"
            ]
          },
          "metadata": {},
          "execution_count": 3
        }
      ]
    },
    {
      "cell_type": "code",
      "metadata": {
        "colab": {
          "base_uri": "https://localhost:8080/",
          "height": 248
        },
        "id": "YnF6YDYmniyw",
        "outputId": "81f9e73a-60d3-4ce4-bc56-d285cbd3b12e"
      },
      "source": [
        "ratio_key_g = list(set(train_df['gender']))\n",
        "\n",
        "ratio_g = {}\n",
        "for idx in range(len(ratio_key_g)):\n",
        "  ratio_g[ratio_key_g[idx]] = 0\n",
        "\n",
        "for key in list(train_df['gender']):\n",
        "  ratio_g[key] += 1\n",
        "\n",
        "plt.pie(list(ratio_g.values()),labels = ratio_key_g,shadow=True,autopct='%.2f%%')\n",
        "plt.show()"
      ],
      "execution_count": null,
      "outputs": [
        {
          "output_type": "display_data",
          "data": {
            "image/png": "[encoded data removed]",
            "text/plain": [
              "<Figure size 432x288 with 1 Axes>"
            ]
          },
          "metadata": {}
        }
      ]
    },
    {
      "cell_type": "code",
      "metadata": {
        "id": "MjKWpqEYQTVa"
      },
      "source": [
        "ratio_key = list(set(train_df['age']))\n",
        "ratio = {}\n",
        "for idx in range(len(ratio_key)):\n",
        "  ratio[ratio_key[idx]] = 0\n",
        "for key in list(train_df['age']):\n",
        "  ratio[key] += 1"
      ],
      "execution_count": null,
      "outputs": []
    },
    {
      "cell_type": "code",
      "metadata": {
        "colab": {
          "base_uri": "https://localhost:8080/",
          "height": 607
        },
        "id": "7LGMxhCpn-Rq",
        "outputId": "1f3c6a80-bd0c-4158-cc83-c1eb0c6548ee"
      },
      "source": [
        "plt.figure(figsize=(15,10))\n",
        "x = np.arange(len(ratio))\n",
        "plt.bar(x, list(ratio.values()))\n",
        "plt.title('Age distribution')\n",
        "plt.xticks(x,ratio_key)\n",
        "plt.show()"
      ],
      "execution_count": null,
      "outputs": [
        {
          "output_type": "display_data",
          "data": {
            "image/png": "[encoded data removed]",
            "text/plain": [
              "<Figure size 1080x720 with 1 Axes>"
            ]
          },
          "metadata": {
            "needs_background": "light"
          }
        }
      ]
    },
    {
      "cell_type": "markdown",
      "metadata": {
        "id": "XgRsn3rdJymU"
      },
      "source": [
        "Dataset class 실행 이후"
      ]
    },
    {
      "cell_type": "code",
      "metadata": {
        "colab": {
          "base_uri": "https://localhost:8080/",
          "height": 417
        },
        "id": "6HRuf5iaJ2bh",
        "outputId": "8b4d5abd-2a39-4716-a3f7-88cfca10ea33"
      },
      "source": [
        "trans_train_df = pd.read_csv('/content/drive/MyDrive/AI_Tech/data/train/trans_train_v4.csv')\n",
        "trans_train_df"
      ],
      "execution_count": null,
      "outputs": [
        {
          "output_type": "execute_result",
          "data": {
            "text/html": [
              "<div>\n",
              "<style scoped>\n",
              "    .dataframe tbody tr th:only-of-type {\n",
              "        vertical-align: middle;\n",
              "    }\n",
              "\n",
              "    .dataframe tbody tr th {\n",
              "        vertical-align: top;\n",
              "    }\n",
              "\n",
              "    .dataframe thead th {\n",
              "        text-align: right;\n",
              "    }\n",
              "</style>\n",
              "<table border=\"1\" class=\"dataframe\">\n",
              "  <thead>\n",
              "    <tr style=\"text-align: right;\">\n",
              "      <th></th>\n",
              "      <th>gender</th>\n",
              "      <th>race</th>\n",
              "      <th>age</th>\n",
              "      <th>path</th>\n",
              "      <th>label</th>\n",
              "    </tr>\n",
              "  </thead>\n",
              "  <tbody>\n",
              "    <tr>\n",
              "      <th>0</th>\n",
              "      <td>female</td>\n",
              "      <td>Asian</td>\n",
              "      <td>45</td>\n",
              "      <td>/content/drive/MyDrive/AI_Tech/data/train/imag...</td>\n",
              "      <td>16</td>\n",
              "    </tr>\n",
              "    <tr>\n",
              "      <th>1</th>\n",
              "      <td>female</td>\n",
              "      <td>Asian</td>\n",
              "      <td>45</td>\n",
              "      <td>/content/drive/MyDrive/AI_Tech/data/train/imag...</td>\n",
              "      <td>4</td>\n",
              "    </tr>\n",
              "    <tr>\n",
              "      <th>2</th>\n",
              "      <td>female</td>\n",
              "      <td>Asian</td>\n",
              "      <td>45</td>\n",
              "      <td>/content/drive/MyDrive/AI_Tech/data/train/imag...</td>\n",
              "      <td>4</td>\n",
              "    </tr>\n",
              "    <tr>\n",
              "      <th>3</th>\n",
              "      <td>female</td>\n",
              "      <td>Asian</td>\n",
              "      <td>45</td>\n",
              "      <td>/content/drive/MyDrive/AI_Tech/data/train/imag...</td>\n",
              "      <td>10</td>\n",
              "    </tr>\n",
              "    <tr>\n",
              "      <th>4</th>\n",
              "      <td>female</td>\n",
              "      <td>Asian</td>\n",
              "      <td>45</td>\n",
              "      <td>/content/drive/MyDrive/AI_Tech/data/train/imag...</td>\n",
              "      <td>4</td>\n",
              "    </tr>\n",
              "    <tr>\n",
              "      <th>...</th>\n",
              "      <td>...</td>\n",
              "      <td>...</td>\n",
              "      <td>...</td>\n",
              "      <td>...</td>\n",
              "      <td>...</td>\n",
              "    </tr>\n",
              "    <tr>\n",
              "      <th>18895</th>\n",
              "      <td>male</td>\n",
              "      <td>Asian</td>\n",
              "      <td>19</td>\n",
              "      <td>/content/drive/MyDrive/AI_Tech/data/train/imag...</td>\n",
              "      <td>0</td>\n",
              "    </tr>\n",
              "    <tr>\n",
              "      <th>18896</th>\n",
              "      <td>male</td>\n",
              "      <td>Asian</td>\n",
              "      <td>19</td>\n",
              "      <td>/content/drive/MyDrive/AI_Tech/data/train/imag...</td>\n",
              "      <td>12</td>\n",
              "    </tr>\n",
              "    <tr>\n",
              "      <th>18897</th>\n",
              "      <td>male</td>\n",
              "      <td>Asian</td>\n",
              "      <td>19</td>\n",
              "      <td>/content/drive/MyDrive/AI_Tech/data/train/imag...</td>\n",
              "      <td>0</td>\n",
              "    </tr>\n",
              "    <tr>\n",
              "      <th>18898</th>\n",
              "      <td>male</td>\n",
              "      <td>Asian</td>\n",
              "      <td>19</td>\n",
              "      <td>/content/drive/MyDrive/AI_Tech/data/train/imag...</td>\n",
              "      <td>0</td>\n",
              "    </tr>\n",
              "    <tr>\n",
              "      <th>18899</th>\n",
              "      <td>male</td>\n",
              "      <td>Asian</td>\n",
              "      <td>19</td>\n",
              "      <td>/content/drive/MyDrive/AI_Tech/data/train/imag...</td>\n",
              "      <td>0</td>\n",
              "    </tr>\n",
              "  </tbody>\n",
              "</table>\n",
              "<p>18900 rows × 5 columns</p>\n",
              "</div>"
            ],
            "text/plain": [
              "       gender   race  ...                                               path label\n",
              "0      female  Asian  ...  /content/drive/MyDrive/AI_Tech/data/train/imag...    16\n",
              "1      female  Asian  ...  /content/drive/MyDrive/AI_Tech/data/train/imag...     4\n",
              "2      female  Asian  ...  /content/drive/MyDrive/AI_Tech/data/train/imag...     4\n",
              "3      female  Asian  ...  /content/drive/MyDrive/AI_Tech/data/train/imag...    10\n",
              "4      female  Asian  ...  /content/drive/MyDrive/AI_Tech/data/train/imag...     4\n",
              "...       ...    ...  ...                                                ...   ...\n",
              "18895    male  Asian  ...  /content/drive/MyDrive/AI_Tech/data/train/imag...     0\n",
              "18896    male  Asian  ...  /content/drive/MyDrive/AI_Tech/data/train/imag...    12\n",
              "18897    male  Asian  ...  /content/drive/MyDrive/AI_Tech/data/train/imag...     0\n",
              "18898    male  Asian  ...  /content/drive/MyDrive/AI_Tech/data/train/imag...     0\n",
              "18899    male  Asian  ...  /content/drive/MyDrive/AI_Tech/data/train/imag...     0\n",
              "\n",
              "[18900 rows x 5 columns]"
            ]
          },
          "metadata": {},
          "execution_count": 5
        }
      ]
    },
    {
      "cell_type": "code",
      "metadata": {
        "id": "nKMCEdcQFrs1",
        "colab": {
          "base_uri": "https://localhost:8080/",
          "height": 499
        },
        "outputId": "e637f5e1-5154-4f1d-cc01-e1f9b9e16d4b"
      },
      "source": [
        "ratio_key = list(set(trans_train_df['label']))\n",
        "ratio = {}\n",
        "for idx in range(len(ratio_key)):\n",
        "  ratio[ratio_key[idx]] = 0\n",
        "\n",
        "for key in list(trans_train_df['label']):\n",
        "  ratio[key] += 1\n",
        "\n",
        "plt.figure(figsize=(12,8))\n",
        "x = np.arange(len(ratio))\n",
        "plt.bar(x, list(ratio.values()),color='green')\n",
        "plt.title('Class distribution')\n",
        "plt.xticks(x,ratio_key)\n",
        "plt.show()"
      ],
      "execution_count": null,
      "outputs": [
        {
          "output_type": "display_data",
          "data": {
            "image/png": "[encoded data removed]",
            "text/plain": [
              "<Figure size 864x576 with 1 Axes>"
            ]
          },
          "metadata": {
            "needs_background": "light"
          }
        }
      ]
    }
  ]
}