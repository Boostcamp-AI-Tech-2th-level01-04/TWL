{
 "cells": [
  {
   "cell_type": "code",
   "execution_count": 31,
   "id": "03647e4e",
   "metadata": {},
   "outputs": [],
   "source": [
    "import pandas as pd\n",
    "import os\n",
    "import numpy as np\n",
    "from model.metric import Classification_report_fromfile,Confusion_matrix_fromfile"
   ]
  },
  {
   "cell_type": "code",
   "execution_count": 32,
   "id": "e131b006",
   "metadata": {},
   "outputs": [],
   "source": [
    "import mglearn\n",
    "import matplotlib.pyplot as plt"
   ]
  },
  {
   "cell_type": "markdown",
   "id": "0f8df443",
   "metadata": {},
   "source": [
    "# Valid2"
   ]
  },
  {
   "cell_type": "code",
   "execution_count": 33,
   "id": "51d39490",
   "metadata": {},
   "outputs": [],
   "source": [
    "metric_name = 'metric_valid2'\n",
    "metric_path = os.path.join(\"../input/data/train\", f'submission_{metric_name}.csv')\n",
    "data_resnext_2epoch_18class_valid = pd.read_csv(metric_path)"
   ]
  },
  {
   "cell_type": "code",
   "execution_count": 34,
   "id": "8d0b3027",
   "metadata": {},
   "outputs": [
    {
     "name": "stdout",
     "output_type": "stream",
     "text": [
      "              precision    recall  f1-score   support\n",
      "\n",
      "           0       0.97      0.99      0.98       263\n",
      "           1       0.98      0.89      0.93       218\n",
      "           2       0.70      0.98      0.82        46\n",
      "           3       0.97      0.94      0.96       332\n",
      "           4       0.96      0.93      0.95       407\n",
      "           5       0.76      1.00      0.86        56\n",
      "           6       0.94      0.96      0.95        51\n",
      "           7       0.97      0.72      0.83        40\n",
      "           8       0.33      1.00      0.50         4\n",
      "           9       0.91      0.99      0.95        76\n",
      "          10       0.99      0.87      0.92        89\n",
      "          11       0.41      1.00      0.58         7\n",
      "          12       0.95      1.00      0.97        54\n",
      "          13       0.97      0.79      0.87        39\n",
      "          14       0.46      0.86      0.60         7\n",
      "          15       0.95      0.98      0.97       104\n",
      "          16       0.99      0.91      0.95        86\n",
      "          17       0.85      1.00      0.92        11\n",
      "\n",
      "    accuracy                           0.94      1890\n",
      "   macro avg       0.84      0.93      0.86      1890\n",
      "weighted avg       0.95      0.94      0.94      1890\n",
      "\n"
     ]
    }
   ],
   "source": [
    "print(Classification_report_fromfile(data_resnext_2epoch_18class_valid['output'], data_resnext_2epoch_18class_valid['target']))"
   ]
  },
  {
   "cell_type": "markdown",
   "id": "20abb55c",
   "metadata": {},
   "source": [
    "2, 5, 7, 8, 11, 14번 분류가 잘 되고 있지 않다. 대부분 support의 값이 동시에 낮은 경향이 있다."
   ]
  },
  {
   "cell_type": "markdown",
   "id": "ede524b2",
   "metadata": {},
   "source": [
    "print(Confusion_matrix_fromfile(dataformetric2['output'], dataformetric2['target']))"
   ]
  },
  {
   "cell_type": "code",
   "execution_count": 35,
   "id": "6143a3c3",
   "metadata": {},
   "outputs": [
    {
     "data": {
      "image/png": "[encoded data removed]",
      "text/plain": [
       "<Figure size 864x504 with 1 Axes>"
      ]
     },
     "metadata": {
      "needs_background": "light"
     },
     "output_type": "display_data"
    }
   ],
   "source": [
    "fig, axes = plt.subplots(1, 1, figsize=(12, 7))\n",
    "scores_image = mglearn.tools.heatmap(Confusion_matrix_fromfile(data_resnext_2epoch_18class_valid['output'], data_resnext_2epoch_18class_valid['target']),\n",
    "                                    xlabel='pred_labels', ylabel='target_labels', xticklabels=np.arange(18),\n",
    "                                    yticklabels=np.arange(18), cmap=plt.cm.gray_r, fmt=\"%d\")\n",
    "plt.title('Confusion Matrix')\n",
    "# axes[0].gca().invert_yaxis()\n",
    "# plt.show()\n",
    "plt.gca().invert_yaxis()"
   ]
  },
  {
   "cell_type": "markdown",
   "id": "dc3f7db7",
   "metadata": {},
   "source": [
    "대부분의 오류가 나이를 구분하지 못하는 것 임을 확인할 수 있다."
   ]
  },
  {
   "cell_type": "markdown",
   "id": "d3b0790f",
   "metadata": {},
   "source": [
    "# Valid3"
   ]
  },
  {
   "cell_type": "code",
   "execution_count": 36,
   "id": "69e406b5",
   "metadata": {},
   "outputs": [],
   "source": [
    "metric_name = 'metric_valid3'\n",
    "metric_path = os.path.join(\"../input/data/train\", f'submission_{metric_name}.csv')\n",
    "data_resnext_3epoch_18class_valid3 = pd.read_csv(metric_path)"
   ]
  },
  {
   "cell_type": "code",
   "execution_count": 37,
   "id": "19670c16",
   "metadata": {},
   "outputs": [
    {
     "name": "stdout",
     "output_type": "stream",
     "text": [
      "              precision    recall  f1-score   support\n",
      "\n",
      "           0       0.98      0.99      0.98       263\n",
      "           1       0.99      0.98      0.98       218\n",
      "           2       0.94      1.00      0.97        46\n",
      "           3       0.98      0.97      0.98       332\n",
      "           4       0.98      0.98      0.98       407\n",
      "           5       0.95      0.96      0.96        56\n",
      "           6       0.94      0.98      0.96        51\n",
      "           7       0.92      0.90      0.91        40\n",
      "           8       0.67      0.50      0.57         4\n",
      "           9       0.96      0.99      0.97        76\n",
      "          10       0.99      0.96      0.97        89\n",
      "          11       0.88      1.00      0.93         7\n",
      "          12       0.98      1.00      0.99        54\n",
      "          13       0.95      0.92      0.94        39\n",
      "          14       0.71      0.71      0.71         7\n",
      "          15       0.95      0.99      0.97       104\n",
      "          16       0.99      0.94      0.96        86\n",
      "          17       1.00      1.00      1.00        11\n",
      "\n",
      "    accuracy                           0.97      1890\n",
      "   macro avg       0.93      0.93      0.93      1890\n",
      "weighted avg       0.97      0.97      0.97      1890\n",
      "\n"
     ]
    }
   ],
   "source": [
    "print(Classification_report_fromfile(data_resnext_3epoch_18class_valid3['output'], data_resnext_3epoch_18class_valid3['target']))"
   ]
  },
  {
   "cell_type": "markdown",
   "id": "1ed24d4c",
   "metadata": {},
   "source": [
    "### 8,11,14번 분류가 잘 되고 있지 않다. 대부분 support의 값이 동시에 낮은 경향이 있다."
   ]
  },
  {
   "cell_type": "markdown",
   "id": "a892d095",
   "metadata": {},
   "source": [
    "print(Confusion_matrix_fromfile(dataformetric3['output'], dataformetric3['target']))"
   ]
  },
  {
   "cell_type": "code",
   "execution_count": 40,
   "id": "82bcaadc",
   "metadata": {},
   "outputs": [
    {
     "data": {
      "image/png": "[encoded data removed]",
      "text/plain": [
       "<Figure size 864x504 with 1 Axes>"
      ]
     },
     "metadata": {
      "needs_background": "light"
     },
     "output_type": "display_data"
    }
   ],
   "source": [
    "fig, axes = plt.subplots(1, 1, figsize=(12, 7))\n",
    "scores_image = mglearn.tools.heatmap(Confusion_matrix_fromfile(data_resnext_3epoch_18class_valid3['output'], data_resnext_3epoch_18class_valid3['target']),\n",
    "                                    xlabel='pred_labels', ylabel='target_labels', xticklabels=np.arange(18),\n",
    "                                    yticklabels=np.arange(18), cmap=plt.cm.gray_r, fmt=\"%d\")\n",
    "plt.title('Confusion Matrix')\n",
    "# axes[0].gca().invert_yaxis()\n",
    "# plt.show()\n",
    "plt.gca().invert_yaxis()"
   ]
  },
  {
   "cell_type": "markdown",
   "id": "ae657249",
   "metadata": {},
   "source": [
    "### 대부분의 오류가 나이를 구분하지 못하는 것 임을 확인할 수 있다.\n",
    "### 성별의 경우는 어린 나이일 때 구분이 다소 되지 않음을 확인할 수 있다."
   ]
  },
  {
   "cell_type": "markdown",
   "id": "18a23d70",
   "metadata": {},
   "source": [
    "# Multi-model 수행 결과"
   ]
  },
  {
   "cell_type": "markdown",
   "id": "60a27c3d",
   "metadata": {},
   "source": [
    "## 마스크와 성별을 구분한 결과 : valid_3epoch"
   ]
  },
  {
   "cell_type": "code",
   "execution_count": 43,
   "id": "d1d81a1b",
   "metadata": {},
   "outputs": [],
   "source": [
    "metric_name = 'tot_metric_valid3'\n",
    "metric_path = os.path.join(\"../input/data/train\", f'submission_{metric_name}.csv')\n",
    "data_resnext_tot_3epoch_6class_valid3 = pd.read_csv(metric_path)"
   ]
  },
  {
   "cell_type": "code",
   "execution_count": 44,
   "id": "9e09c225",
   "metadata": {},
   "outputs": [
    {
     "name": "stdout",
     "output_type": "stream",
     "text": [
      "              precision    recall  f1-score   support\n",
      "\n",
      "           0       1.00      1.00      1.00       641\n",
      "           1       1.00      1.00      1.00       988\n",
      "           2       1.00      0.99      1.00       130\n",
      "           3       1.00      1.00      1.00       181\n",
      "           4       1.00      1.00      1.00       130\n",
      "           5       1.00      1.00      1.00       224\n",
      "\n",
      "    accuracy                           1.00      2294\n",
      "   macro avg       1.00      1.00      1.00      2294\n",
      "weighted avg       1.00      1.00      1.00      2294\n",
      "\n"
     ]
    }
   ],
   "source": [
    "print(Classification_report_fromfile(data_resnext_tot_3epoch_6class_valid3['output'], data_resnext_tot_3epoch_6class_valid3['target']))"
   ]
  },
  {
   "cell_type": "markdown",
   "id": "160d297b",
   "metadata": {},
   "source": [
    "### 각 클래스의 f1-score가 1.00으로 성능이 우수한 것을 알 수 있다."
   ]
  },
  {
   "cell_type": "code",
   "execution_count": 45,
   "id": "38417cd0",
   "metadata": {},
   "outputs": [
    {
     "data": {
      "image/png": "[encoded data removed]",
      "text/plain": [
       "<Figure size 864x504 with 1 Axes>"
      ]
     },
     "metadata": {
      "needs_background": "light"
     },
     "output_type": "display_data"
    }
   ],
   "source": [
    "fig, axes = plt.subplots(1, 1, figsize=(12, 7))\n",
    "scores_image = mglearn.tools.heatmap(Confusion_matrix_fromfile(data_resnext_tot_3epoch_6class_valid3['output'], data_resnext_tot_3epoch_6class_valid3['target']),\n",
    "                                    xlabel='pred_labels', ylabel='target_labels', xticklabels=np.arange(6),\n",
    "                                    yticklabels=np.arange(6), cmap=plt.cm.gray_r, fmt=\"%d\")\n",
    "plt.title('Confusion Matrix')\n",
    "# axes[0].gca().invert_yaxis()\n",
    "# plt.show()\n",
    "plt.gca().invert_yaxis()"
   ]
  },
  {
   "cell_type": "markdown",
   "id": "46c96cc7",
   "metadata": {},
   "source": [
    "### 마스크를 쓴 부분에서 남여를 구분 못하는 경우가 있으나 아주 적은 수치이다."
   ]
  },
  {
   "cell_type": "markdown",
   "id": "cc3ed4c6",
   "metadata": {},
   "source": [
    "## mask를 착용한 데이터에 대한 나이 구분 결과 : valid 3epoch"
   ]
  },
  {
   "cell_type": "code",
   "execution_count": 46,
   "id": "b01f0151",
   "metadata": {},
   "outputs": [],
   "source": [
    "metric_name = 'mask_metric_valid3'\n",
    "metric_path = os.path.join(\"../input/data/train\", f'submission_{metric_name}.csv')\n",
    "data_resnext_mask_3epoch_3class_valid3 = pd.read_csv(metric_path)"
   ]
  },
  {
   "cell_type": "code",
   "execution_count": 47,
   "id": "cf0af43a",
   "metadata": {},
   "outputs": [
    {
     "name": "stdout",
     "output_type": "stream",
     "text": [
      "              precision    recall  f1-score   support\n",
      "\n",
      "           0       1.00      1.00      1.00       626\n",
      "           1       1.00      1.00      1.00       643\n",
      "           2       1.00      1.00      1.00       369\n",
      "\n",
      "    accuracy                           1.00      1638\n",
      "   macro avg       1.00      1.00      1.00      1638\n",
      "weighted avg       1.00      1.00      1.00      1638\n",
      "\n"
     ]
    }
   ],
   "source": [
    "print(Classification_report_fromfile(data_resnext_mask_3epoch_3class_valid3['output'], data_resnext_mask_3epoch_3class_valid3['target']))"
   ]
  },
  {
   "cell_type": "markdown",
   "id": "c1b8eb52",
   "metadata": {},
   "source": [
    "### 각 클래스 별 f1-socre가 모두 1로 우수한 성능을 보임을 알 수 있다."
   ]
  },
  {
   "cell_type": "code",
   "execution_count": 48,
   "id": "babb4b95",
   "metadata": {},
   "outputs": [
    {
     "data": {
      "image/png": "[encoded data removed]",
      "text/plain": [
       "<Figure size 864x504 with 1 Axes>"
      ]
     },
     "metadata": {
      "needs_background": "light"
     },
     "output_type": "display_data"
    }
   ],
   "source": [
    "fig, axes = plt.subplots(1, 1, figsize=(12, 7))\n",
    "scores_image = mglearn.tools.heatmap(Confusion_matrix_fromfile(data_resnext_mask_3epoch_3class_valid3['output'], data_resnext_mask_3epoch_3class_valid3['target']),\n",
    "                                    xlabel='pred_labels', ylabel='target_labels', xticklabels=np.arange(3),\n",
    "                                    yticklabels=np.arange(3), cmap=plt.cm.gray_r, fmt=\"%d\")\n",
    "plt.title('Confusion Matrix')\n",
    "# axes[0].gca().invert_yaxis()\n",
    "# plt.show()\n",
    "plt.gca().invert_yaxis()"
   ]
  },
  {
   "cell_type": "markdown",
   "id": "0fbd357b",
   "metadata": {},
   "source": [
    "### 여전히 30대의 경계에서 적은 수치로 오류가 발생함을 알 수 있다."
   ]
  },
  {
   "cell_type": "markdown",
   "id": "4b7ab60e",
   "metadata": {},
   "source": [
    "## mask를 오착용한 데이터에 대한 나이 구분 결과 : valid 3epoch"
   ]
  },
  {
   "cell_type": "code",
   "execution_count": 52,
   "id": "c6884641",
   "metadata": {},
   "outputs": [],
   "source": [
    "metric_name = 'incorrect_metric_valid3'\n",
    "metric_path = os.path.join(\"../input/data/train\", f'submission_{metric_name}.csv')\n",
    "data_resnext_incorrect_3epoch_3class_valid3 = pd.read_csv(metric_path)"
   ]
  },
  {
   "cell_type": "code",
   "execution_count": 53,
   "id": "77a72e98",
   "metadata": {},
   "outputs": [
    {
     "name": "stdout",
     "output_type": "stream",
     "text": [
      "              precision    recall  f1-score   support\n",
      "\n",
      "           0       0.94      0.98      0.96       128\n",
      "           1       0.91      0.91      0.91       125\n",
      "           2       0.96      0.88      0.92        75\n",
      "\n",
      "    accuracy                           0.93       328\n",
      "   macro avg       0.94      0.93      0.93       328\n",
      "weighted avg       0.93      0.93      0.93       328\n",
      "\n"
     ]
    }
   ],
   "source": [
    "print(Classification_report_fromfile(data_resnext_incorrect_3epoch_3class_valid3['output'], data_resnext_incorrect_3epoch_3class_valid3['target']))"
   ]
  },
  {
   "cell_type": "markdown",
   "id": "ea41243c",
   "metadata": {},
   "source": [
    "### f1-score가 전반적으로 떨어짐을 보이는 것으로 보아 오착용 데이터에서 추가적인 작업이 필요함을 보인다."
   ]
  },
  {
   "cell_type": "code",
   "execution_count": 26,
   "id": "a389e982",
   "metadata": {},
   "outputs": [
    {
     "data": {
      "image/png": "[encoded data removed]",
      "text/plain": [
       "<Figure size 864x504 with 1 Axes>"
      ]
     },
     "metadata": {
      "needs_background": "light"
     },
     "output_type": "display_data"
    }
   ],
   "source": [
    "fig, axes = plt.subplots(1, 1, figsize=(12, 7))\n",
    "scores_image = mglearn.tools.heatmap(Confusion_matrix_fromfile(data_resnext_incorrect_3epoch_3class_valid3['output'], data_resnext_incorrect_3epoch_3class_valid3['target']),\n",
    "                                    xlabel='pred_labels', ylabel='target_labels', xticklabels=np.arange(3),\n",
    "                                    yticklabels=np.arange(3), cmap=plt.cm.gray_r, fmt=\"%d\")\n",
    "plt.title('Confusion Matrix')\n",
    "# axes[0].gca().invert_yaxis()\n",
    "# plt.show()\n",
    "plt.gca().invert_yaxis()"
   ]
  },
  {
   "cell_type": "markdown",
   "id": "e489b903",
   "metadata": {},
   "source": [
    "### 모든 구분 경계에서 오류가 발생하는 것으로보아 결정경계를 조금 더 명확하게 구분할 수 있는 추가 작업이 필요함을 알 수 있다."
   ]
  },
  {
   "cell_type": "markdown",
   "id": "edd470c8",
   "metadata": {},
   "source": [
    "## mask를 미착용한 데이터에 대한 나이 구분 결과 : valid 3epoch"
   ]
  },
  {
   "cell_type": "code",
   "execution_count": 54,
   "id": "27d4f8f3",
   "metadata": {},
   "outputs": [],
   "source": [
    "metric_name = 'normal_metric_valid3'\n",
    "metric_path = os.path.join(\"../input/data/train\", f'submission_{metric_name}.csv')\n",
    "data_resnext_normal_3epoch_3class_valid3 = pd.read_csv(metric_path)"
   ]
  },
  {
   "cell_type": "code",
   "execution_count": 55,
   "id": "87809b62",
   "metadata": {},
   "outputs": [
    {
     "name": "stdout",
     "output_type": "stream",
     "text": [
      "              precision    recall  f1-score   support\n",
      "\n",
      "           0       0.96      0.98      0.97       128\n",
      "           1       0.91      0.93      0.92       125\n",
      "           2       0.94      0.87      0.90        75\n",
      "\n",
      "    accuracy                           0.94       328\n",
      "   macro avg       0.94      0.93      0.93       328\n",
      "weighted avg       0.94      0.94      0.94       328\n",
      "\n"
     ]
    }
   ],
   "source": [
    "print(Classification_report_fromfile(data_resnext_normal_3epoch_3class_valid3['output'], data_resnext_normal_3epoch_3class_valid3['target']))"
   ]
  },
  {
   "cell_type": "markdown",
   "id": "0bb97d65",
   "metadata": {},
   "source": [
    "### 마스크를 오착용한 결과와 비슷한 경향을 보인다."
   ]
  },
  {
   "cell_type": "code",
   "execution_count": 29,
   "id": "1dd20ebd",
   "metadata": {},
   "outputs": [
    {
     "data": {
      "image/png": "[encoded data removed]",
      "text/plain": [
       "<Figure size 864x504 with 1 Axes>"
      ]
     },
     "metadata": {
      "needs_background": "light"
     },
     "output_type": "display_data"
    }
   ],
   "source": [
    "fig, axes = plt.subplots(1, 1, figsize=(12, 7))\n",
    "scores_image = mglearn.tools.heatmap(Confusion_matrix_fromfile(data_resnext_normal_3epoch_3class_valid3['output'], data_resnext_normal_3epoch_3class_valid3['target']),\n",
    "                                    xlabel='pred_labels', ylabel='target_labels', xticklabels=np.arange(3),\n",
    "                                    yticklabels=np.arange(3), cmap=plt.cm.gray_r, fmt=\"%d\")\n",
    "plt.title('Confusion Matrix')\n",
    "# axes[0].gca().invert_yaxis()\n",
    "# plt.show()\n",
    "plt.gca().invert_yaxis()"
   ]
  },
  {
   "cell_type": "markdown",
   "id": "c9534df2",
   "metadata": {},
   "source": [
    "### 이 역시 오착용에 대한 결과와 같은 경향을 보인다."
   ]
  }
 ],
 "metadata": {
  "kernelspec": {
   "display_name": "Python 3",
   "language": "python",
   "name": "python3"
  },
  "language_info": {
   "codemirror_mode": {
    "name": "ipython",
    "version": 3
   },
   "file_extension": ".py",
   "mimetype": "text/x-python",
   "name": "python",
   "nbconvert_exporter": "python",
   "pygments_lexer": "ipython3",
   "version": "3.8.5"
  }
 },
 "nbformat": 4,
 "nbformat_minor": 5
}
